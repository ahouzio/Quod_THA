{
 "cells": [
  {
   "cell_type": "code",
   "execution_count": 138,
   "metadata": {},
   "outputs": [],
   "source": [
    "import pandas as pd\n",
    "import datetime\n",
    "from collections import Counter\n",
    "import matplotlib.pyplot as plt\n",
    "from sklearn.ensemble import RandomForestRegressor\n",
    "from sklearn.metrics import mean_absolute_error, mean_squared_error, r2_score, root_mean_squared_error"
   ]
  },
  {
   "cell_type": "code",
   "execution_count": 2,
   "metadata": {},
   "outputs": [],
   "source": [
    "tr_1 = pd.read_csv(\"transactions_1.csv\", index_col=0)\n",
    "tr_2 = pd.read_csv(\"transactions_2.csv\", index_col=0)\n",
    "tr_total = pd.concat([tr_1, tr_2], axis = 0).sort_values(by = [\"date\"])\n",
    "tr_total = tr_total.drop_duplicates()"
   ]
  },
  {
   "cell_type": "code",
   "execution_count": 3,
   "metadata": {},
   "outputs": [],
   "source": [
    "# convert date column to datetime\n",
    "tr_total['date'] = pd.to_datetime(tr_total['date'], format='%Y-%m-%dT%H:%M:%S.%fZ', errors='coerce')\n",
    "\n",
    "tr_total['year'] = tr_total['date'].dt.to_period('Y') # Format: YYYY\n",
    "tr_total['year_month'] = tr_total['date'].dt.to_period('M')  # Format: YYYY-MM\n",
    "tr_total['year_month_day'] = tr_total['date'].dt.to_period('D')  # Format: YYYY-MM-DD\n",
    "tr_total['year_month_day_hour'] = tr_total['date'].dt.to_period('h')  # Format: YYYY-MM-DD HH"
   ]
  },
  {
   "cell_type": "code",
   "execution_count": 37,
   "metadata": {},
   "outputs": [],
   "source": [
    "monthly_data = tr_total.groupby(['customer_id', 'year_month'])['product_id'].count().reset_index().rename(columns = {\"product_id\" : \"transactions\"})"
   ]
  },
  {
   "cell_type": "code",
   "execution_count": 76,
   "metadata": {},
   "outputs": [
    {
     "data": {
      "text/html": [
       "<div>\n",
       "<style scoped>\n",
       "    .dataframe tbody tr th:only-of-type {\n",
       "        vertical-align: middle;\n",
       "    }\n",
       "\n",
       "    .dataframe tbody tr th {\n",
       "        vertical-align: top;\n",
       "    }\n",
       "\n",
       "    .dataframe thead th {\n",
       "        text-align: right;\n",
       "    }\n",
       "</style>\n",
       "<table border=\"1\" class=\"dataframe\">\n",
       "  <thead>\n",
       "    <tr style=\"text-align: right;\">\n",
       "      <th></th>\n",
       "      <th>customer_id</th>\n",
       "      <th>year_month</th>\n",
       "      <th>transactions</th>\n",
       "    </tr>\n",
       "  </thead>\n",
       "  <tbody>\n",
       "    <tr>\n",
       "      <th>0</th>\n",
       "      <td>1001614</td>\n",
       "      <td>2018-06</td>\n",
       "      <td>28</td>\n",
       "    </tr>\n",
       "    <tr>\n",
       "      <th>1</th>\n",
       "      <td>1001614</td>\n",
       "      <td>2018-09</td>\n",
       "      <td>3</td>\n",
       "    </tr>\n",
       "    <tr>\n",
       "      <th>2</th>\n",
       "      <td>1001614</td>\n",
       "      <td>2018-10</td>\n",
       "      <td>19</td>\n",
       "    </tr>\n",
       "    <tr>\n",
       "      <th>3</th>\n",
       "      <td>1001614</td>\n",
       "      <td>2019-01</td>\n",
       "      <td>4</td>\n",
       "    </tr>\n",
       "    <tr>\n",
       "      <th>4</th>\n",
       "      <td>1001614</td>\n",
       "      <td>2019-02</td>\n",
       "      <td>8</td>\n",
       "    </tr>\n",
       "  </tbody>\n",
       "</table>\n",
       "</div>"
      ],
      "text/plain": [
       "   customer_id year_month  transactions\n",
       "0      1001614    2018-06            28\n",
       "1      1001614    2018-09             3\n",
       "2      1001614    2018-10            19\n",
       "3      1001614    2019-01             4\n",
       "4      1001614    2019-02             8"
      ]
     },
     "execution_count": 76,
     "metadata": {},
     "output_type": "execute_result"
    }
   ],
   "source": [
    "monthly_data.head()"
   ]
  },
  {
   "cell_type": "code",
   "execution_count": 68,
   "metadata": {},
   "outputs": [],
   "source": [
    "all_dates = pd.period_range(start=monthly_data['year_month'].min(),\n",
    "                            end=monthly_data['year_month'].max(),\n",
    "                            freq='M')\n",
    "\n",
    "all_combinations = pd.MultiIndex.from_product(\n",
    "    [monthly_data['customer_id'].unique(), all_dates],\n",
    "    names=['customer_id', 'year_month']\n",
    ").to_frame(index=False)\n",
    "\n",
    "# Merge with the original data to fill in missing months\n",
    "complete_data = all_combinations.merge(monthly_data, on=['customer_id', 'year_month'], how='left')\n",
    "complete_data['transactions'] = complete_data['transactions'].fillna(0)"
   ]
  },
  {
   "cell_type": "code",
   "execution_count": 77,
   "metadata": {},
   "outputs": [
    {
     "data": {
      "text/html": [
       "<div>\n",
       "<style scoped>\n",
       "    .dataframe tbody tr th:only-of-type {\n",
       "        vertical-align: middle;\n",
       "    }\n",
       "\n",
       "    .dataframe tbody tr th {\n",
       "        vertical-align: top;\n",
       "    }\n",
       "\n",
       "    .dataframe thead th {\n",
       "        text-align: right;\n",
       "    }\n",
       "</style>\n",
       "<table border=\"1\" class=\"dataframe\">\n",
       "  <thead>\n",
       "    <tr style=\"text-align: right;\">\n",
       "      <th></th>\n",
       "      <th>customer_id</th>\n",
       "      <th>year_month</th>\n",
       "      <th>transactions</th>\n",
       "    </tr>\n",
       "  </thead>\n",
       "  <tbody>\n",
       "    <tr>\n",
       "      <th>0</th>\n",
       "      <td>1001614</td>\n",
       "      <td>2017-01</td>\n",
       "      <td>0.0</td>\n",
       "    </tr>\n",
       "    <tr>\n",
       "      <th>1</th>\n",
       "      <td>1001614</td>\n",
       "      <td>2017-02</td>\n",
       "      <td>0.0</td>\n",
       "    </tr>\n",
       "    <tr>\n",
       "      <th>2</th>\n",
       "      <td>1001614</td>\n",
       "      <td>2017-03</td>\n",
       "      <td>0.0</td>\n",
       "    </tr>\n",
       "    <tr>\n",
       "      <th>3</th>\n",
       "      <td>1001614</td>\n",
       "      <td>2017-04</td>\n",
       "      <td>0.0</td>\n",
       "    </tr>\n",
       "    <tr>\n",
       "      <th>4</th>\n",
       "      <td>1001614</td>\n",
       "      <td>2017-05</td>\n",
       "      <td>0.0</td>\n",
       "    </tr>\n",
       "  </tbody>\n",
       "</table>\n",
       "</div>"
      ],
      "text/plain": [
       "   customer_id year_month  transactions\n",
       "0      1001614    2017-01           0.0\n",
       "1      1001614    2017-02           0.0\n",
       "2      1001614    2017-03           0.0\n",
       "3      1001614    2017-04           0.0\n",
       "4      1001614    2017-05           0.0"
      ]
     },
     "execution_count": 77,
     "metadata": {},
     "output_type": "execute_result"
    }
   ],
   "source": [
    "complete_data.head()"
   ]
  },
  {
   "cell_type": "code",
   "execution_count": 93,
   "metadata": {},
   "outputs": [],
   "source": [
    "window_size = 3\n",
    "targets = []\n",
    "\n",
    "for customer_id in complete_data['customer_id'].unique():\n",
    "    customer_data = complete_data[complete_data['customer_id'] == customer_id]\n",
    "    \n",
    "    for i in range(len(customer_data) - window_size + 1):\n",
    "        target_sum = customer_data['transactions'].iloc[i:i+window_size].sum()\n",
    "        \n",
    "        targets.append({\n",
    "            'customer_id': customer_id,\n",
    "            'start_year': customer_data['year_month'].iloc[i].year,\n",
    "            'start_month': customer_data['year_month'].iloc[i].month,\n",
    "            'end_year': customer_data['year_month'].iloc[i+window_size-1].year,\n",
    "            'end_month': customer_data['year_month'].iloc[i+window_size-1].month,\n",
    "            'transactions': target_sum\n",
    "        })\n",
    "\n",
    "targets_df = pd.DataFrame(targets)\n",
    "targets_df = targets_df.sort_values(by=['customer_id', 'start_year', 'start_month'])"
   ]
  },
  {
   "cell_type": "code",
   "execution_count": 110,
   "metadata": {},
   "outputs": [
    {
     "data": {
      "text/html": [
       "<div>\n",
       "<style scoped>\n",
       "    .dataframe tbody tr th:only-of-type {\n",
       "        vertical-align: middle;\n",
       "    }\n",
       "\n",
       "    .dataframe tbody tr th {\n",
       "        vertical-align: top;\n",
       "    }\n",
       "\n",
       "    .dataframe thead th {\n",
       "        text-align: right;\n",
       "    }\n",
       "</style>\n",
       "<table border=\"1\" class=\"dataframe\">\n",
       "  <thead>\n",
       "    <tr style=\"text-align: right;\">\n",
       "      <th></th>\n",
       "      <th>customer_id</th>\n",
       "      <th>start_year</th>\n",
       "      <th>start_month</th>\n",
       "      <th>end_year</th>\n",
       "      <th>end_month</th>\n",
       "      <th>transactions</th>\n",
       "      <th>train</th>\n",
       "    </tr>\n",
       "  </thead>\n",
       "  <tbody>\n",
       "    <tr>\n",
       "      <th>0</th>\n",
       "      <td>1001614</td>\n",
       "      <td>2017</td>\n",
       "      <td>1</td>\n",
       "      <td>2017</td>\n",
       "      <td>3</td>\n",
       "      <td>0.0</td>\n",
       "      <td>True</td>\n",
       "    </tr>\n",
       "    <tr>\n",
       "      <th>1</th>\n",
       "      <td>1001614</td>\n",
       "      <td>2017</td>\n",
       "      <td>2</td>\n",
       "      <td>2017</td>\n",
       "      <td>4</td>\n",
       "      <td>0.0</td>\n",
       "      <td>True</td>\n",
       "    </tr>\n",
       "    <tr>\n",
       "      <th>2</th>\n",
       "      <td>1001614</td>\n",
       "      <td>2017</td>\n",
       "      <td>3</td>\n",
       "      <td>2017</td>\n",
       "      <td>5</td>\n",
       "      <td>0.0</td>\n",
       "      <td>True</td>\n",
       "    </tr>\n",
       "    <tr>\n",
       "      <th>3</th>\n",
       "      <td>1001614</td>\n",
       "      <td>2017</td>\n",
       "      <td>4</td>\n",
       "      <td>2017</td>\n",
       "      <td>6</td>\n",
       "      <td>0.0</td>\n",
       "      <td>True</td>\n",
       "    </tr>\n",
       "    <tr>\n",
       "      <th>4</th>\n",
       "      <td>1001614</td>\n",
       "      <td>2017</td>\n",
       "      <td>5</td>\n",
       "      <td>2017</td>\n",
       "      <td>7</td>\n",
       "      <td>0.0</td>\n",
       "      <td>True</td>\n",
       "    </tr>\n",
       "  </tbody>\n",
       "</table>\n",
       "</div>"
      ],
      "text/plain": [
       "   customer_id  start_year  start_month  end_year  end_month  transactions  \\\n",
       "0      1001614        2017            1      2017          3           0.0   \n",
       "1      1001614        2017            2      2017          4           0.0   \n",
       "2      1001614        2017            3      2017          5           0.0   \n",
       "3      1001614        2017            4      2017          6           0.0   \n",
       "4      1001614        2017            5      2017          7           0.0   \n",
       "\n",
       "   train  \n",
       "0   True  \n",
       "1   True  \n",
       "2   True  \n",
       "3   True  \n",
       "4   True  "
      ]
     },
     "execution_count": 110,
     "metadata": {},
     "output_type": "execute_result"
    }
   ],
   "source": [
    "targets_df.head()"
   ]
  },
  {
   "cell_type": "markdown",
   "metadata": {},
   "source": [
    "### Train/test split"
   ]
  },
  {
   "cell_type": "code",
   "execution_count": 113,
   "metadata": {},
   "outputs": [],
   "source": [
    "train_year = 2019\n",
    "train_month = 1\n",
    "\n",
    "train = targets_df[\n",
    "    (targets_df['end_year'] < train_year) |\n",
    "    ((targets_df['end_year'] == train_year) & (targets_df['end_month'] <= train_month))\n",
    "].drop(\"train\", axis=1)\n",
    "\n",
    "test = targets_df[\n",
    "    (targets_df['start_year'] == train_year) &\n",
    "    (targets_df['start_month'] == train_month + 1)\n",
    "].drop(\"train\", axis=1)"
   ]
  },
  {
   "cell_type": "code",
   "execution_count": 117,
   "metadata": {},
   "outputs": [
    {
     "data": {
      "text/plain": [
       "(Index(['customer_id', 'start_year', 'start_month', 'end_year', 'end_month',\n",
       "        'transactions'],\n",
       "       dtype='object'),\n",
       " (46046, 6),\n",
       " (2002, 6))"
      ]
     },
     "execution_count": 117,
     "metadata": {},
     "output_type": "execute_result"
    }
   ],
   "source": [
    "train.columns, train.shape, test.shape"
   ]
  },
  {
   "cell_type": "code",
   "execution_count": 129,
   "metadata": {},
   "outputs": [],
   "source": [
    "# Features and target for training\n",
    "X_train = train[['customer_id', 'start_year', 'start_month', 'end_year', 'end_month']]\n",
    "y_train = train['transactions']\n",
    "\n",
    "# Features and target for testing\n",
    "X_test = test[['customer_id', 'start_year', 'start_month', 'end_year', 'end_month']]\n",
    "y_test = test['transactions']"
   ]
  },
  {
   "cell_type": "markdown",
   "metadata": {},
   "source": [
    "### Benchmark"
   ]
  },
  {
   "cell_type": "markdown",
   "metadata": {},
   "source": [
    "* mean of previous customer transactions\n",
    "* Previous three months transactions "
   ]
  },
  {
   "cell_type": "code",
   "execution_count": 119,
   "metadata": {},
   "outputs": [],
   "source": [
    "mean_transactions = train.groupby('customer_id')['transactions'].mean().reset_index()\n",
    "mean_transactions.rename(columns={'transactions': 'mean_transactions'}, inplace=True)\n",
    "test_with_mean = test.merge(mean_transactions, on='customer_id', how='left')"
   ]
  },
  {
   "cell_type": "code",
   "execution_count": 139,
   "metadata": {},
   "outputs": [
    {
     "name": "stdout",
     "output_type": "stream",
     "text": [
      "Benchmark Results (Mean Prediction):\n",
      "Mean Absolute Error (MAE): 32.38\n",
      "Root Mean Squared Error (RMSE): 98.33\n"
     ]
    }
   ],
   "source": [
    "y_pred_benchmark = test_with_mean['mean_transactions']\n",
    "\n",
    "# Compute evaluation metrics for the benchmark\n",
    "mae_benchmark = mean_absolute_error(y_test, y_pred_benchmark)\n",
    "rmse_benchmark = root_mean_squared_error(y_test, y_pred_benchmark)\n",
    "\n",
    "# Print the benchmark results\n",
    "print(\"Benchmark Results (Mean Prediction):\")\n",
    "print(f\"Mean Absolute Error (MAE): {mae_benchmark:.2f}\")\n",
    "print(f\"Root Mean Squared Error (RMSE): {rmse_benchmark:.2f}\")"
   ]
  },
  {
   "cell_type": "code",
   "execution_count": 144,
   "metadata": {},
   "outputs": [
    {
     "name": "stdout",
     "output_type": "stream",
     "text": [
      "Benchmark Results (Mean Prediction):\n",
      "Mean Absolute Error (MAE): 31.37\n",
      "Root Mean Squared Error (RMSE): 100.75\n"
     ]
    }
   ],
   "source": [
    "last_train_values = train[(train[\"end_year\"] == 2019) & (train[\"end_month\"] == 1)][\"transactions\"]\n",
    "\n",
    "# Compute evaluation metrics for the benchmark\n",
    "mae_benchmark_2 = mean_absolute_error(y_test, last_train_values)\n",
    "rmse_benchmark_2 = root_mean_squared_error(y_test, last_train_values)\n",
    "\n",
    "# Print the benchmark results\n",
    "print(\"Benchmark Results (Mean Prediction):\")\n",
    "print(f\"Mean Absolute Error (MAE): {mae_benchmark_2:.2f}\")\n",
    "print(f\"Root Mean Squared Error (RMSE): {rmse_benchmark_2:.2f}\")"
   ]
  },
  {
   "cell_type": "code",
   "execution_count": null,
   "metadata": {},
   "outputs": [],
   "source": []
  },
  {
   "cell_type": "code",
   "execution_count": null,
   "metadata": {},
   "outputs": [],
   "source": []
  }
 ],
 "metadata": {
  "kernelspec": {
   "display_name": "Python 3",
   "language": "python",
   "name": "python3"
  },
  "language_info": {
   "codemirror_mode": {
    "name": "ipython",
    "version": 3
   },
   "file_extension": ".py",
   "mimetype": "text/x-python",
   "name": "python",
   "nbconvert_exporter": "python",
   "pygments_lexer": "ipython3",
   "version": "3.11.0"
  }
 },
 "nbformat": 4,
 "nbformat_minor": 2
}
